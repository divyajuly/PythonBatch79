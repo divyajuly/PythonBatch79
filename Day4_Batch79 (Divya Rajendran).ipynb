{
 "cells": [
  {
   "cell_type": "code",
   "execution_count": 1,
   "id": "94bebd83",
   "metadata": {},
   "outputs": [],
   "source": [
    "subjects = ['maths','science','english','french']"
   ]
  },
  {
   "cell_type": "code",
   "execution_count": 2,
   "id": "c299cc02",
   "metadata": {},
   "outputs": [
    {
     "name": "stdout",
     "output_type": "stream",
     "text": [
      "['maths', 'science', 'english', 'french']\n"
     ]
    }
   ],
   "source": [
    "print(subjects)"
   ]
  },
  {
   "cell_type": "code",
   "execution_count": 3,
   "id": "46322c80",
   "metadata": {},
   "outputs": [
    {
     "data": {
      "text/plain": [
       "list"
      ]
     },
     "execution_count": 3,
     "metadata": {},
     "output_type": "execute_result"
    }
   ],
   "source": [
    "type(subjects)"
   ]
  },
  {
   "cell_type": "code",
   "execution_count": 6,
   "id": "96b10ec6",
   "metadata": {},
   "outputs": [
    {
     "name": "stdout",
     "output_type": "stream",
     "text": [
      "Science\n"
     ]
    }
   ],
   "source": [
    "print(subjects[1].title())"
   ]
  },
  {
   "cell_type": "code",
   "execution_count": null,
   "id": "b8cb4119",
   "metadata": {},
   "outputs": [],
   "source": [
    "TO APPEND new element"
   ]
  },
  {
   "cell_type": "code",
   "execution_count": 7,
   "id": "a18f3e34",
   "metadata": {},
   "outputs": [],
   "source": [
    "subjects.append('physics')"
   ]
  },
  {
   "cell_type": "code",
   "execution_count": 9,
   "id": "c91de320",
   "metadata": {},
   "outputs": [
    {
     "name": "stdout",
     "output_type": "stream",
     "text": [
      "['maths', 'science', 'english', 'french', 'physics']\n"
     ]
    }
   ],
   "source": [
    "print(subjects)"
   ]
  },
  {
   "cell_type": "code",
   "execution_count": 16,
   "id": "18469631",
   "metadata": {},
   "outputs": [
    {
     "name": "stdout",
     "output_type": "stream",
     "text": [
      "['maths', 'science', 'chemistry', 'english', 'french', 'physics']\n"
     ]
    }
   ],
   "source": [
    "subjects.insert(2,'chemistry')\n",
    "\n",
    "\n",
    "print(subjects)"
   ]
  },
  {
   "cell_type": "code",
   "execution_count": null,
   "id": "fcffa52e",
   "metadata": {},
   "outputs": [],
   "source": [
    "CHANGE the element in between"
   ]
  },
  {
   "cell_type": "code",
   "execution_count": null,
   "id": "145fd22d",
   "metadata": {},
   "outputs": [],
   "source": [
    "subjects[2]='biology'\n",
    "\n",
    "    "
   ]
  },
  {
   "cell_type": "code",
   "execution_count": 17,
   "id": "9739e0cf",
   "metadata": {},
   "outputs": [
    {
     "name": "stdout",
     "output_type": "stream",
     "text": [
      "['maths', 'science', 'chemistry', 'english', 'french', 'physics']\n"
     ]
    }
   ],
   "source": [
    "print(subjects)"
   ]
  },
  {
   "cell_type": "code",
   "execution_count": 18,
   "id": "c985f68f",
   "metadata": {},
   "outputs": [
    {
     "name": "stdout",
     "output_type": "stream",
     "text": [
      "['tamil', 'science', 'chemistry', 'english', 'french', 'physics']\n"
     ]
    }
   ],
   "source": [
    "subjects[0]='tamil'\n",
    "\n",
    "print(subjects)"
   ]
  },
  {
   "cell_type": "code",
   "execution_count": 21,
   "id": "44fb03d5",
   "metadata": {},
   "outputs": [
    {
     "name": "stdout",
     "output_type": "stream",
     "text": [
      "['science', 'chemistry', 'english', 'french', 'physics']\n"
     ]
    }
   ],
   "source": [
    "del subjects[0]\n",
    "\n",
    "\n",
    "print(subjects)\n"
   ]
  },
  {
   "cell_type": "code",
   "execution_count": null,
   "id": "dd1f4478",
   "metadata": {},
   "outputs": [],
   "source": [
    "POP :"
   ]
  },
  {
   "cell_type": "code",
   "execution_count": 22,
   "id": "6bd63847",
   "metadata": {},
   "outputs": [
    {
     "name": "stdout",
     "output_type": "stream",
     "text": [
      "['science', 'chemistry', 'english', 'french']\n"
     ]
    }
   ],
   "source": [
    "x=subjects.pop()\n",
    "\n",
    "\n",
    "print(subjects)"
   ]
  },
  {
   "cell_type": "code",
   "execution_count": 23,
   "id": "94f35fee",
   "metadata": {},
   "outputs": [
    {
     "name": "stdout",
     "output_type": "stream",
     "text": [
      "physics\n"
     ]
    }
   ],
   "source": [
    "print(x)"
   ]
  },
  {
   "cell_type": "code",
   "execution_count": 24,
   "id": "9c06eb32",
   "metadata": {},
   "outputs": [
    {
     "name": "stdout",
     "output_type": "stream",
     "text": [
      "['science', 'chemistry', 'french']\n"
     ]
    }
   ],
   "source": [
    "y=subjects.pop(2)\n",
    "\n",
    "print(subjects)"
   ]
  },
  {
   "cell_type": "code",
   "execution_count": 25,
   "id": "98b99bb4",
   "metadata": {},
   "outputs": [
    {
     "name": "stdout",
     "output_type": "stream",
     "text": [
      "english\n"
     ]
    }
   ],
   "source": [
    "print(y)"
   ]
  },
  {
   "cell_type": "code",
   "execution_count": null,
   "id": "af0b7bd2",
   "metadata": {},
   "outputs": [],
   "source": []
  }
 ],
 "metadata": {
  "kernelspec": {
   "display_name": "Python 3 (ipykernel)",
   "language": "python",
   "name": "python3"
  },
  "language_info": {
   "codemirror_mode": {
    "name": "ipython",
    "version": 3
   },
   "file_extension": ".py",
   "mimetype": "text/x-python",
   "name": "python",
   "nbconvert_exporter": "python",
   "pygments_lexer": "ipython3",
   "version": "3.10.9"
  }
 },
 "nbformat": 4,
 "nbformat_minor": 5
}
