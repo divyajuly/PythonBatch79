{
 "cells": [
  {
   "cell_type": "code",
   "execution_count": 1,
   "id": "3d24643b",
   "metadata": {},
   "outputs": [
    {
     "ename": "SyntaxError",
     "evalue": "invalid syntax (3915379799.py, line 5)",
     "output_type": "error",
     "traceback": [
      "\u001b[1;36m  Cell \u001b[1;32mIn[1], line 5\u001b[1;36m\u001b[0m\n\u001b[1;33m    fullname = f \"{firstname} {lastname}\"\u001b[0m\n\u001b[1;37m                 ^\u001b[0m\n\u001b[1;31mSyntaxError\u001b[0m\u001b[1;31m:\u001b[0m invalid syntax\n"
     ]
    }
   ],
   "source": [
    "firstname='divya'\n",
    "\n",
    "lastname= 'rajendran'\n",
    "\n",
    "fullname = f\"{firstname} {lastname}\"\n",
    "\n",
    "print (fullname)"
   ]
  },
  {
   "cell_type": "code",
   "execution_count": 2,
   "id": "c5ca9433",
   "metadata": {},
   "outputs": [
    {
     "ename": "NameError",
     "evalue": "name 'fullname' is not defined",
     "output_type": "error",
     "traceback": [
      "\u001b[1;31m---------------------------------------------------------------------------\u001b[0m",
      "\u001b[1;31mNameError\u001b[0m                                 Traceback (most recent call last)",
      "Cell \u001b[1;32mIn[2], line 1\u001b[0m\n\u001b[1;32m----> 1\u001b[0m \u001b[38;5;28mprint\u001b[39m(\u001b[43mfullname\u001b[49m)\n",
      "\u001b[1;31mNameError\u001b[0m: name 'fullname' is not defined"
     ]
    }
   ],
   "source": [
    "print(fullname)"
   ]
  },
  {
   "cell_type": "code",
   "execution_count": 3,
   "id": "bdfa1aee",
   "metadata": {},
   "outputs": [
    {
     "ename": "NameError",
     "evalue": "name 'firstname' is not defined",
     "output_type": "error",
     "traceback": [
      "\u001b[1;31m---------------------------------------------------------------------------\u001b[0m",
      "\u001b[1;31mNameError\u001b[0m                                 Traceback (most recent call last)",
      "Cell \u001b[1;32mIn[3], line 1\u001b[0m\n\u001b[1;32m----> 1\u001b[0m \u001b[38;5;28mprint\u001b[39m (\u001b[43mfirstname\u001b[49m)\n",
      "\u001b[1;31mNameError\u001b[0m: name 'firstname' is not defined"
     ]
    }
   ],
   "source": [
    "print (firstname)"
   ]
  },
  {
   "cell_type": "code",
   "execution_count": 4,
   "id": "4bede04c",
   "metadata": {},
   "outputs": [
    {
     "name": "stdout",
     "output_type": "stream",
     "text": [
      "rajendran\n"
     ]
    }
   ],
   "source": [
    "firstname = 'divya'\n",
    "\n",
    "lastname = 'rajendran'\n",
    "\n",
    "print (lastname)\n"
   ]
  },
  {
   "cell_type": "code",
   "execution_count": 5,
   "id": "cb61d299",
   "metadata": {},
   "outputs": [
    {
     "ename": "SyntaxError",
     "evalue": "invalid syntax (3731382580.py, line 1)",
     "output_type": "error",
     "traceback": [
      "\u001b[1;36m  Cell \u001b[1;32mIn[5], line 1\u001b[1;36m\u001b[0m\n\u001b[1;33m    fullname = f '{firstname} {lastname}'\u001b[0m\n\u001b[1;37m                 ^\u001b[0m\n\u001b[1;31mSyntaxError\u001b[0m\u001b[1;31m:\u001b[0m invalid syntax\n"
     ]
    }
   ],
   "source": [
    "fullname = \"{firstname} {lastname}\"\n",
    "\n",
    "\n"
   ]
  },
  {
   "cell_type": "code",
   "execution_count": 6,
   "id": "fb77bb8c",
   "metadata": {},
   "outputs": [
    {
     "ename": "NameError",
     "evalue": "name 'fullname' is not defined",
     "output_type": "error",
     "traceback": [
      "\u001b[1;31m---------------------------------------------------------------------------\u001b[0m",
      "\u001b[1;31mNameError\u001b[0m                                 Traceback (most recent call last)",
      "Cell \u001b[1;32mIn[6], line 1\u001b[0m\n\u001b[1;32m----> 1\u001b[0m \u001b[38;5;28mprint\u001b[39m (\u001b[43mfullname\u001b[49m)\n",
      "\u001b[1;31mNameError\u001b[0m: name 'fullname' is not defined"
     ]
    }
   ],
   "source": [
    "print (fullname)\n",
    "\n"
   ]
  },
  {
   "cell_type": "code",
   "execution_count": 7,
   "id": "1b29b225",
   "metadata": {},
   "outputs": [
    {
     "name": "stdout",
     "output_type": "stream",
     "text": [
      " divya rajendran\n"
     ]
    }
   ],
   "source": [
    "fullname = f\" {firstname} {lastname}\"\n",
    "\n",
    "print (fullname)\n"
   ]
  },
  {
   "cell_type": "code",
   "execution_count": 8,
   "id": "98b77fd4",
   "metadata": {},
   "outputs": [
    {
     "name": "stdout",
     "output_type": "stream",
     "text": [
      " thank you for the session faiyaz,  divya rajendran\n"
     ]
    }
   ],
   "source": [
    "message = f\" thank you for the session faiyaz, {fullname}\"\n",
    "\n",
    "print (message)"
   ]
  },
  {
   "cell_type": "code",
   "execution_count": null,
   "id": "1f114404",
   "metadata": {},
   "outputs": [],
   "source": [
    "To Correct the FORMAT 2 ways:"
   ]
  },
  {
   "cell_type": "code",
   "execution_count": null,
   "id": "e834df5f",
   "metadata": {},
   "outputs": [],
   "source": [
    "Way 1 : This corrects only the fullname String"
   ]
  },
  {
   "cell_type": "code",
   "execution_count": 9,
   "id": "56cc2da6",
   "metadata": {},
   "outputs": [
    {
     "ename": "AttributeError",
     "evalue": "'str' object has no attribute 'tile'",
     "output_type": "error",
     "traceback": [
      "\u001b[1;31m---------------------------------------------------------------------------\u001b[0m",
      "\u001b[1;31mAttributeError\u001b[0m                            Traceback (most recent call last)",
      "Cell \u001b[1;32mIn[9], line 1\u001b[0m\n\u001b[1;32m----> 1\u001b[0m message \u001b[38;5;241m=\u001b[39m \u001b[38;5;124mf\u001b[39m\u001b[38;5;124m\"\u001b[39m\u001b[38;5;124m thank you for the session faiyaz, \u001b[39m\u001b[38;5;132;01m{\u001b[39;00mfullname\u001b[38;5;241m.\u001b[39mtile()\u001b[38;5;132;01m}\u001b[39;00m\u001b[38;5;124m\"\u001b[39m\n",
      "\u001b[1;31mAttributeError\u001b[0m: 'str' object has no attribute 'tile'"
     ]
    }
   ],
   "source": [
    "message = f\" thank you for the session faiyaz, {fullname.tile()}\"\n",
    "\n"
   ]
  },
  {
   "cell_type": "code",
   "execution_count": 10,
   "id": "fb1a6fc4",
   "metadata": {},
   "outputs": [],
   "source": [
    "message = f\" thank you for the session faiyaz, {fullname.title()}\"\n"
   ]
  },
  {
   "cell_type": "code",
   "execution_count": 11,
   "id": "a4f9a14a",
   "metadata": {},
   "outputs": [
    {
     "name": "stdout",
     "output_type": "stream",
     "text": [
      " thank you for the session faiyaz,  Divya Rajendran\n"
     ]
    }
   ],
   "source": [
    "print (message)"
   ]
  },
  {
   "cell_type": "code",
   "execution_count": null,
   "id": "de3ad4c9",
   "metadata": {},
   "outputs": [],
   "source": [
    "Way 2 : This corrects all the strings "
   ]
  },
  {
   "cell_type": "code",
   "execution_count": 12,
   "id": "26e8a0f4",
   "metadata": {},
   "outputs": [
    {
     "name": "stdout",
     "output_type": "stream",
     "text": [
      " Thank You For The Session Faiyaz,  Divya Rajendran\n"
     ]
    }
   ],
   "source": [
    "print (message.title())\n"
   ]
  },
  {
   "cell_type": "code",
   "execution_count": null,
   "id": "21f3a6a4",
   "metadata": {},
   "outputs": [],
   "source": [
    "ADDING WHITESPACES"
   ]
  },
  {
   "cell_type": "code",
   "execution_count": 13,
   "id": "ddeefdc7",
   "metadata": {},
   "outputs": [
    {
     "ename": "SyntaxError",
     "evalue": "invalid syntax (1152811615.py, line 1)",
     "output_type": "error",
     "traceback": [
      "\u001b[1;36m  Cell \u001b[1;32mIn[13], line 1\u001b[1;36m\u001b[0m\n\u001b[1;33m    print (student_name: divyaguhanvigneshsrini)\u001b[0m\n\u001b[1;37m                       ^\u001b[0m\n\u001b[1;31mSyntaxError\u001b[0m\u001b[1;31m:\u001b[0m invalid syntax\n"
     ]
    }
   ],
   "source": [
    "print (student_name: divyaguhanvigneshsrini)"
   ]
  },
  {
   "cell_type": "code",
   "execution_count": 14,
   "id": "2f136f91",
   "metadata": {},
   "outputs": [
    {
     "ename": "SyntaxError",
     "evalue": "invalid syntax (1102257962.py, line 1)",
     "output_type": "error",
     "traceback": [
      "\u001b[1;36m  Cell \u001b[1;32mIn[14], line 1\u001b[1;36m\u001b[0m\n\u001b[1;33m    print (student_name :divyaguhanvigneshsrini)\u001b[0m\n\u001b[1;37m                        ^\u001b[0m\n\u001b[1;31mSyntaxError\u001b[0m\u001b[1;31m:\u001b[0m invalid syntax\n"
     ]
    }
   ],
   "source": [
    "print (student_name :divyaguhanvigneshsrini)"
   ]
  },
  {
   "cell_type": "code",
   "execution_count": 15,
   "id": "3e3f3ca2",
   "metadata": {},
   "outputs": [
    {
     "ename": "SyntaxError",
     "evalue": "invalid syntax (2766845649.py, line 1)",
     "output_type": "error",
     "traceback": [
      "\u001b[1;36m  Cell \u001b[1;32mIn[15], line 1\u001b[1;36m\u001b[0m\n\u001b[1;33m    print (student_name : divyaguhanvigneshsrini)\u001b[0m\n\u001b[1;37m                        ^\u001b[0m\n\u001b[1;31mSyntaxError\u001b[0m\u001b[1;31m:\u001b[0m invalid syntax\n"
     ]
    }
   ],
   "source": [
    "print (student_name : divyaguhanvigneshsrini)"
   ]
  },
  {
   "cell_type": "code",
   "execution_count": 16,
   "id": "d6fd494e",
   "metadata": {},
   "outputs": [
    {
     "ename": "SyntaxError",
     "evalue": "invalid syntax (2502338082.py, line 1)",
     "output_type": "error",
     "traceback": [
      "\u001b[1;36m  Cell \u001b[1;32mIn[16], line 1\u001b[1;36m\u001b[0m\n\u001b[1;33m    print (student_name:divyaguhanvigneshsrini)\u001b[0m\n\u001b[1;37m                       ^\u001b[0m\n\u001b[1;31mSyntaxError\u001b[0m\u001b[1;31m:\u001b[0m invalid syntax\n"
     ]
    }
   ],
   "source": [
    "print (student_name:divyaguhanvigneshsrini)"
   ]
  },
  {
   "cell_type": "code",
   "execution_count": 17,
   "id": "8e850d71",
   "metadata": {},
   "outputs": [
    {
     "ename": "SyntaxError",
     "evalue": "invalid syntax. Perhaps you forgot a comma? (1052394046.py, line 1)",
     "output_type": "error",
     "traceback": [
      "\u001b[1;36m  Cell \u001b[1;32mIn[17], line 1\u001b[1;36m\u001b[0m\n\u001b[1;33m    print (student_name divyaguhanvigneshsrini)\u001b[0m\n\u001b[1;37m           ^\u001b[0m\n\u001b[1;31mSyntaxError\u001b[0m\u001b[1;31m:\u001b[0m invalid syntax. Perhaps you forgot a comma?\n"
     ]
    }
   ],
   "source": [
    "print (student_name divyaguhanvigneshsrini)"
   ]
  },
  {
   "cell_type": "code",
   "execution_count": 18,
   "id": "3c937cab",
   "metadata": {},
   "outputs": [
    {
     "ename": "SyntaxError",
     "evalue": "invalid syntax. Perhaps you forgot a comma? (2160060230.py, line 1)",
     "output_type": "error",
     "traceback": [
      "\u001b[1;36m  Cell \u001b[1;32mIn[18], line 1\u001b[1;36m\u001b[0m\n\u001b[1;33m    print (student_name divyaguhanvigneshsrini)\u001b[0m\n\u001b[1;37m           ^\u001b[0m\n\u001b[1;31mSyntaxError\u001b[0m\u001b[1;31m:\u001b[0m invalid syntax. Perhaps you forgot a comma?\n"
     ]
    }
   ],
   "source": [
    "print (student_name divyaguhanvigneshsrini)\n"
   ]
  },
  {
   "cell_type": "code",
   "execution_count": 19,
   "id": "0454c255",
   "metadata": {},
   "outputs": [
    {
     "name": "stdout",
     "output_type": "stream",
     "text": [
      "student_name: divyaguhanvigneshsrini\n"
     ]
    }
   ],
   "source": [
    "print (\"student_name: divyaguhanvigneshsrini\")"
   ]
  },
  {
   "cell_type": "code",
   "execution_count": null,
   "id": "ea59ac32",
   "metadata": {},
   "outputs": [],
   "source": [
    "Adding new line Spaces:"
   ]
  },
  {
   "cell_type": "code",
   "execution_count": 20,
   "id": "341ac141",
   "metadata": {},
   "outputs": [
    {
     "name": "stdout",
     "output_type": "stream",
     "text": [
      "student_name: \n",
      "divya\n",
      "guhan\n",
      "vignesh\n",
      "srini\n"
     ]
    }
   ],
   "source": [
    "print (\"student_name: \\ndivya\\nguhan\\nvignesh\\nsrini\")\n"
   ]
  },
  {
   "cell_type": "code",
   "execution_count": null,
   "id": "72a419dc",
   "metadata": {},
   "outputs": [],
   "source": [
    "Adding Tab Space:"
   ]
  },
  {
   "cell_type": "code",
   "execution_count": 21,
   "id": "3de9a81b",
   "metadata": {},
   "outputs": [
    {
     "name": "stdout",
     "output_type": "stream",
     "text": [
      "student_name: \n",
      "\tdivya\n",
      "\tguhan\n",
      "\tvignesh\n",
      "\tsrini\n"
     ]
    }
   ],
   "source": [
    "print (\"student_name: \\n\\tdivya\\n\\tguhan\\n\\tvignesh\\n\\tsrini\")\n"
   ]
  },
  {
   "cell_type": "code",
   "execution_count": null,
   "id": "cf09d605",
   "metadata": {},
   "outputs": [],
   "source": [
    "To Correct the Format :"
   ]
  },
  {
   "cell_type": "code",
   "execution_count": 22,
   "id": "4f320067",
   "metadata": {},
   "outputs": [
    {
     "name": "stdout",
     "output_type": "stream",
     "text": [
      "student_name: \n",
      "\tdivya\n",
      "\tguhan\n",
      "\tvignesh\n",
      "\tsrini.title()\n"
     ]
    }
   ],
   "source": [
    "print (\"student_name: \\n\\tdivya\\n\\tguhan\\n\\tvignesh\\n\\tsrini.title()\")\n",
    "\n"
   ]
  },
  {
   "cell_type": "code",
   "execution_count": 23,
   "id": "87d7adaa",
   "metadata": {},
   "outputs": [
    {
     "name": "stdout",
     "output_type": "stream",
     "text": [
      "Student_Name: \n",
      "\tDivya\n",
      "\tGuhan\n",
      "\tVignesh\n",
      "\tSrini\n"
     ]
    }
   ],
   "source": [
    "print (\"student_name: \\n\\tdivya\\n\\tguhan\\n\\tvignesh\\n\\tsrini\".title())\n",
    "\n"
   ]
  },
  {
   "cell_type": "code",
   "execution_count": null,
   "id": "2b5db0c8",
   "metadata": {},
   "outputs": [],
   "source": [
    "Changing to UPPER case:"
   ]
  },
  {
   "cell_type": "code",
   "execution_count": 24,
   "id": "1716976e",
   "metadata": {},
   "outputs": [
    {
     "name": "stdout",
     "output_type": "stream",
     "text": [
      "STUDENT_NAME: \n",
      "\tDIVYA\n",
      "\tGUHAN\n",
      "\tVIGNESH\n",
      "\tSRINI\n"
     ]
    }
   ],
   "source": [
    "print (\"student_name: \\n\\tdivya\\n\\tguhan\\n\\tvignesh\\n\\tsrini\".upper())\n",
    "\n"
   ]
  },
  {
   "cell_type": "code",
   "execution_count": 26,
   "id": "930f3f0a",
   "metadata": {},
   "outputs": [
    {
     "ename": "SyntaxError",
     "evalue": "invalid syntax (307480540.py, line 1)",
     "output_type": "error",
     "traceback": [
      "\u001b[1;36m  Cell \u001b[1;32mIn[26], line 1\u001b[1;36m\u001b[0m\n\u001b[1;33m    REMOVING WHITESPACE:\u001b[0m\n\u001b[1;37m             ^\u001b[0m\n\u001b[1;31mSyntaxError\u001b[0m\u001b[1;31m:\u001b[0m invalid syntax\n"
     ]
    }
   ],
   "source": [
    "REMOVING WHITESPACE:"
   ]
  },
  {
   "cell_type": "code",
   "execution_count": 25,
   "id": "48519784",
   "metadata": {},
   "outputs": [
    {
     "name": "stdout",
     "output_type": "stream",
     "text": [
      "Student_Name:   \n",
      "\tDivya\n",
      "\tGuhan\n",
      "\tVignesh\n",
      "\tSrini\n"
     ]
    }
   ],
   "source": [
    "print (\"student_name:   \\n\\tdivya\\n\\tguhan\\n\\t  vignesh\\n\\tsrini\".title())\n",
    "\n"
   ]
  },
  {
   "cell_type": "code",
   "execution_count": 27,
   "id": "0feaff3c",
   "metadata": {},
   "outputs": [
    {
     "name": "stdout",
     "output_type": "stream",
     "text": [
      "Student_Name:   \n",
      "\tDivya\n",
      "\tGuhan\n",
      "\t  Vignesh\n",
      "\tSrini\n"
     ]
    }
   ],
   "source": [
    "print (\"student_name:   \\n\\tdivya\\n\\tguhan\\n\\t  vignesh\\n\\tsrini\".title())\n"
   ]
  },
  {
   "cell_type": "code",
   "execution_count": 28,
   "id": "01c0b82b",
   "metadata": {},
   "outputs": [
    {
     "name": "stdout",
     "output_type": "stream",
     "text": [
      "Student_Name:   \n",
      "\tDivya\n",
      "\tGuhan\n",
      "\t  Vignesh\n",
      "\tSrini\n"
     ]
    }
   ],
   "source": [
    "print (\"student_name:   \\n\\tdivya\\n\\tguhan\\n\\t  vignesh\\n\\tsrini\".title().strip())\n"
   ]
  },
  {
   "cell_type": "code",
   "execution_count": 29,
   "id": "6f140562",
   "metadata": {},
   "outputs": [
    {
     "name": "stdout",
     "output_type": "stream",
     "text": [
      "Student_Name :   \n",
      "\tDivya\n",
      "\tGuhan\n",
      "\tVignesh\n",
      "\tSrini\n"
     ]
    }
   ],
   "source": [
    "print (\"student_name :   \\n\\tdivya\\n\\tguhan\\n\\tvignesh\\n\\tsrini\".title())\n"
   ]
  },
  {
   "cell_type": "code",
   "execution_count": 30,
   "id": "0743f3c6",
   "metadata": {},
   "outputs": [
    {
     "name": "stdout",
     "output_type": "stream",
     "text": [
      "Student_Name :   \n",
      "\tDivya\n",
      "\tGuhan\n",
      "\t  Vignesh\n",
      "\tSrini\n"
     ]
    }
   ],
   "source": [
    "print (\"student_name :   \\n\\tdivya\\n\\tguhan\\n\\tvignesh\\n\\tsrini\".title().strip())\n"
   ]
  },
  {
   "cell_type": "code",
   "execution_count": 31,
   "id": "c2206fd4",
   "metadata": {},
   "outputs": [
    {
     "name": "stdout",
     "output_type": "stream",
     "text": [
      "Student_Name :.Strip()   \n",
      "\tDivya\n",
      "\tGuhan\n",
      "\tVignesh\n",
      "\tSrini\n"
     ]
    }
   ],
   "source": [
    "print (\"student_name :.strip()   \\n\\tdivya\\n\\tguhan\\n\\tvignesh\\n\\tsrini\".title().strip())\n"
   ]
  },
  {
   "cell_type": "code",
   "execution_count": 32,
   "id": "947fdebe",
   "metadata": {},
   "outputs": [
    {
     "name": "stdout",
     "output_type": "stream",
     "text": [
      " up\n"
     ]
    }
   ],
   "source": [
    "test = 'up'\n",
    "test =\" up\"\n",
    "print (test)\n"
   ]
  },
  {
   "cell_type": "code",
   "execution_count": 34,
   "id": "3496314c",
   "metadata": {},
   "outputs": [
    {
     "name": "stdout",
     "output_type": "stream",
     "text": [
      "down \n"
     ]
    }
   ],
   "source": [
    "test = \"down \"\n",
    "test2 = \"down \"\n",
    "\n",
    "print (test2)"
   ]
  },
  {
   "cell_type": "code",
   "execution_count": 35,
   "id": "9e3dcbe5",
   "metadata": {},
   "outputs": [
    {
     "name": "stdout",
     "output_type": "stream",
     "text": [
      " middle \n"
     ]
    }
   ],
   "source": [
    "test3 = \" middle \"\n",
    "\n",
    "print (test3)\n"
   ]
  },
  {
   "cell_type": "code",
   "execution_count": null,
   "id": "d9e18ccf",
   "metadata": {},
   "outputs": [],
   "source": [
    "To remove spaces"
   ]
  },
  {
   "cell_type": "code",
   "execution_count": 36,
   "id": "349751e6",
   "metadata": {},
   "outputs": [
    {
     "name": "stdout",
     "output_type": "stream",
     "text": [
      "down \n"
     ]
    }
   ],
   "source": [
    "print (test.lstrip())"
   ]
  },
  {
   "cell_type": "code",
   "execution_count": 37,
   "id": "3266d321",
   "metadata": {},
   "outputs": [
    {
     "name": "stdout",
     "output_type": "stream",
     "text": [
      "down\n"
     ]
    }
   ],
   "source": [
    "print (test.rstrip())"
   ]
  },
  {
   "cell_type": "code",
   "execution_count": 38,
   "id": "1cc8efac",
   "metadata": {},
   "outputs": [
    {
     "name": "stdout",
     "output_type": "stream",
     "text": [
      "down \n"
     ]
    }
   ],
   "source": [
    "print (test2.lstrip())"
   ]
  },
  {
   "cell_type": "code",
   "execution_count": 39,
   "id": "6a3841f9",
   "metadata": {},
   "outputs": [
    {
     "name": "stdout",
     "output_type": "stream",
     "text": [
      "down\n"
     ]
    }
   ],
   "source": [
    "print (test2.rstrip())"
   ]
  },
  {
   "cell_type": "code",
   "execution_count": 40,
   "id": "b07c3683",
   "metadata": {},
   "outputs": [
    {
     "name": "stdout",
     "output_type": "stream",
     "text": [
      "middle\n"
     ]
    }
   ],
   "source": [
    "print (test3.strip())"
   ]
  },
  {
   "cell_type": "code",
   "execution_count": null,
   "id": "f7e42e72",
   "metadata": {},
   "outputs": [],
   "source": [
    "Since the above output is not good, trying again"
   ]
  },
  {
   "cell_type": "code",
   "execution_count": 41,
   "id": "b6677cd1",
   "metadata": {},
   "outputs": [
    {
     "name": "stdout",
     "output_type": "stream",
     "text": [
      " maths\n"
     ]
    }
   ],
   "source": [
    "note = \" maths\"\n",
    "\n",
    "print (note)"
   ]
  },
  {
   "cell_type": "code",
   "execution_count": 42,
   "id": "6abaee08",
   "metadata": {},
   "outputs": [
    {
     "name": "stdout",
     "output_type": "stream",
     "text": [
      "science  \n"
     ]
    }
   ],
   "source": [
    "note2 = \"science  \"\n",
    "\n",
    "print (note2)"
   ]
  },
  {
   "cell_type": "code",
   "execution_count": 43,
   "id": "3c2003a6",
   "metadata": {},
   "outputs": [
    {
     "name": "stdout",
     "output_type": "stream",
     "text": [
      " english \n"
     ]
    }
   ],
   "source": [
    "note3 = \" english \"\n",
    "\n",
    "print (note3)\n"
   ]
  },
  {
   "cell_type": "code",
   "execution_count": 44,
   "id": "ba1bd046",
   "metadata": {},
   "outputs": [
    {
     "name": "stdout",
     "output_type": "stream",
     "text": [
      "maths\n"
     ]
    }
   ],
   "source": [
    "print (note.lstrip())"
   ]
  },
  {
   "cell_type": "code",
   "execution_count": 45,
   "id": "a6ff1ee9",
   "metadata": {},
   "outputs": [
    {
     "name": "stdout",
     "output_type": "stream",
     "text": [
      "science\n"
     ]
    }
   ],
   "source": [
    "print (note2.rstrip())\n",
    "\n"
   ]
  },
  {
   "cell_type": "code",
   "execution_count": 46,
   "id": "5d2870e7",
   "metadata": {},
   "outputs": [
    {
     "name": "stdout",
     "output_type": "stream",
     "text": [
      "english\n"
     ]
    }
   ],
   "source": [
    "print (note3.strip())"
   ]
  },
  {
   "cell_type": "code",
   "execution_count": null,
   "id": "56f2d46f",
   "metadata": {},
   "outputs": [],
   "source": []
  }
 ],
 "metadata": {
  "kernelspec": {
   "display_name": "Python 3 (ipykernel)",
   "language": "python",
   "name": "python3"
  },
  "language_info": {
   "codemirror_mode": {
    "name": "ipython",
    "version": 3
   },
   "file_extension": ".py",
   "mimetype": "text/x-python",
   "name": "python",
   "nbconvert_exporter": "python",
   "pygments_lexer": "ipython3",
   "version": "3.10.9"
  }
 },
 "nbformat": 4,
 "nbformat_minor": 5
}
